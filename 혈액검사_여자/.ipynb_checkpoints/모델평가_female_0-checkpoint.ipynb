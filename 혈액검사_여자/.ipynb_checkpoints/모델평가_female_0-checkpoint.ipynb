{
 "cells": [
  {
   "cell_type": "code",
   "execution_count": 1,
   "metadata": {},
   "outputs": [],
   "source": [
    "#데이터 구성 : Series, DataFrame\n",
    "import pandas as pd\n",
    "#데이터시각화\n",
    "import matplotlib.pyplot as plt\n",
    "import matplotlib\n",
    "\n",
    "# 그래프 Visualization\n",
    "import seaborn as sns\n",
    "import matplotlib as mpl\n",
    "import matplotlib.pyplot as plt\n",
    "import matplotlib.font_manager as fm\n",
    "import warnings\n",
    "warnings.filterwarnings('ignore')\n",
    "%matplotlib inline\n",
    "\n",
    "# Decision tree\n",
    "from sklearn.tree import export_graphviz\n",
    "import graphviz\n",
    "from sklearn.model_selection import train_test_split\n",
    "from sklearn.tree import DecisionTreeRegressor\n",
    "from sklearn.model_selection import GridSearchCV\n",
    "\n",
    "from sklearn.tree import DecisionTreeClassifier\n",
    "from sklearn.ensemble import RandomForestClassifier\n",
    "from sklearn.ensemble import GradientBoostingClassifier\n",
    "from sklearn.svm import SVC\n",
    "from sklearn.neighbors import KNeighborsClassifier\n",
    "\n",
    "# 모델 성능 평가: F1 Score, ROC Curve, AUC\\\n",
    "from sklearn.metrics import f1_score, roc_curve, auc, recall_score\n",
    "import matplotlib.pyplot as plt\n",
    "\n",
    "#스케일 변환 -> 표준화 회귀계수 산출\n",
    "from sklearn.preprocessing import StandardScaler\n",
    "\n",
    "%matplotlib inline\n",
    "matplotlib.rc('font', family ='Malgun Gothic')"
   ]
  },
  {
   "cell_type": "markdown",
   "metadata": {},
   "source": [
    "# 1. 데이터 구성"
   ]
  },
  {
   "cell_type": "code",
   "execution_count": 2,
   "metadata": {},
   "outputs": [
    {
     "data": {
      "text/html": [
       "<div>\n",
       "<style scoped>\n",
       "    .dataframe tbody tr th:only-of-type {\n",
       "        vertical-align: middle;\n",
       "    }\n",
       "\n",
       "    .dataframe tbody tr th {\n",
       "        vertical-align: top;\n",
       "    }\n",
       "\n",
       "    .dataframe thead th {\n",
       "        text-align: right;\n",
       "    }\n",
       "</style>\n",
       "<table border=\"1\" class=\"dataframe\">\n",
       "  <thead>\n",
       "    <tr style=\"text-align: right;\">\n",
       "      <th></th>\n",
       "      <th>customer_id</th>\n",
       "      <th>review_cat</th>\n",
       "      <th>judge</th>\n",
       "      <th>review_date</th>\n",
       "      <th>gender</th>\n",
       "      <th>age</th>\n",
       "      <th>height</th>\n",
       "      <th>weight</th>\n",
       "      <th>bust</th>\n",
       "      <th>waist</th>\n",
       "      <th>...</th>\n",
       "      <th>bt_mch_judge</th>\n",
       "      <th>bt_mchc_judge</th>\n",
       "      <th>bt_mvc_judge</th>\n",
       "      <th>bt_plat_judge</th>\n",
       "      <th>bt_rbc_judge</th>\n",
       "      <th>bt_wbc_judge</th>\n",
       "      <th>bt_rgpt_judge</th>\n",
       "      <th>bt_sgot_judge</th>\n",
       "      <th>bt_sgpt_judge</th>\n",
       "      <th>bt_trig_judge</th>\n",
       "    </tr>\n",
       "  </thead>\n",
       "  <tbody>\n",
       "    <tr>\n",
       "      <th>0</th>\n",
       "      <td>C112346</td>\n",
       "      <td>혈액검사</td>\n",
       "      <td>재검</td>\n",
       "      <td>2014-10-09</td>\n",
       "      <td>1</td>\n",
       "      <td>70</td>\n",
       "      <td>165</td>\n",
       "      <td>63</td>\n",
       "      <td>92.0</td>\n",
       "      <td>88.0</td>\n",
       "      <td>...</td>\n",
       "      <td>0.0</td>\n",
       "      <td>0.0</td>\n",
       "      <td>0.0</td>\n",
       "      <td>0.0</td>\n",
       "      <td>0.0</td>\n",
       "      <td>0.0</td>\n",
       "      <td>1.0</td>\n",
       "      <td>0.0</td>\n",
       "      <td>0.0</td>\n",
       "      <td>0.0</td>\n",
       "    </tr>\n",
       "    <tr>\n",
       "      <th>1</th>\n",
       "      <td>C112350</td>\n",
       "      <td>일반검진</td>\n",
       "      <td>재검</td>\n",
       "      <td>2014-11-18</td>\n",
       "      <td>1</td>\n",
       "      <td>69</td>\n",
       "      <td>178</td>\n",
       "      <td>75</td>\n",
       "      <td>99.0</td>\n",
       "      <td>92.0</td>\n",
       "      <td>...</td>\n",
       "      <td>NaN</td>\n",
       "      <td>NaN</td>\n",
       "      <td>NaN</td>\n",
       "      <td>NaN</td>\n",
       "      <td>NaN</td>\n",
       "      <td>NaN</td>\n",
       "      <td>NaN</td>\n",
       "      <td>NaN</td>\n",
       "      <td>NaN</td>\n",
       "      <td>NaN</td>\n",
       "    </tr>\n",
       "    <tr>\n",
       "      <th>2</th>\n",
       "      <td>C112355</td>\n",
       "      <td>일반검진</td>\n",
       "      <td>재검</td>\n",
       "      <td>2015-03-18</td>\n",
       "      <td>1</td>\n",
       "      <td>70</td>\n",
       "      <td>169</td>\n",
       "      <td>69</td>\n",
       "      <td>96.0</td>\n",
       "      <td>88.0</td>\n",
       "      <td>...</td>\n",
       "      <td>NaN</td>\n",
       "      <td>NaN</td>\n",
       "      <td>NaN</td>\n",
       "      <td>NaN</td>\n",
       "      <td>NaN</td>\n",
       "      <td>NaN</td>\n",
       "      <td>NaN</td>\n",
       "      <td>NaN</td>\n",
       "      <td>NaN</td>\n",
       "      <td>NaN</td>\n",
       "    </tr>\n",
       "    <tr>\n",
       "      <th>3</th>\n",
       "      <td>C112356</td>\n",
       "      <td>혈액검사</td>\n",
       "      <td>재검</td>\n",
       "      <td>2015-09-28</td>\n",
       "      <td>1</td>\n",
       "      <td>70</td>\n",
       "      <td>165</td>\n",
       "      <td>64</td>\n",
       "      <td>103.0</td>\n",
       "      <td>92.0</td>\n",
       "      <td>...</td>\n",
       "      <td>0.0</td>\n",
       "      <td>0.0</td>\n",
       "      <td>0.0</td>\n",
       "      <td>0.0</td>\n",
       "      <td>0.0</td>\n",
       "      <td>0.0</td>\n",
       "      <td>0.0</td>\n",
       "      <td>0.0</td>\n",
       "      <td>0.0</td>\n",
       "      <td>0.0</td>\n",
       "    </tr>\n",
       "    <tr>\n",
       "      <th>4</th>\n",
       "      <td>C112358</td>\n",
       "      <td>혈액검사</td>\n",
       "      <td>거절</td>\n",
       "      <td>2015-02-24</td>\n",
       "      <td>1</td>\n",
       "      <td>70</td>\n",
       "      <td>166</td>\n",
       "      <td>73</td>\n",
       "      <td>100.0</td>\n",
       "      <td>91.0</td>\n",
       "      <td>...</td>\n",
       "      <td>0.0</td>\n",
       "      <td>0.0</td>\n",
       "      <td>0.0</td>\n",
       "      <td>0.0</td>\n",
       "      <td>0.0</td>\n",
       "      <td>0.0</td>\n",
       "      <td>0.0</td>\n",
       "      <td>0.0</td>\n",
       "      <td>1.0</td>\n",
       "      <td>0.0</td>\n",
       "    </tr>\n",
       "  </tbody>\n",
       "</table>\n",
       "<p>5 rows × 48 columns</p>\n",
       "</div>"
      ],
      "text/plain": [
       "  customer_id review_cat judge review_date  gender  age  height  weight  \\\n",
       "0     C112346       혈액검사    재검  2014-10-09       1   70     165      63   \n",
       "1     C112350       일반검진    재검  2014-11-18       1   69     178      75   \n",
       "2     C112355       일반검진    재검  2015-03-18       1   70     169      69   \n",
       "3     C112356       혈액검사    재검  2015-09-28       1   70     165      64   \n",
       "4     C112358       혈액검사    거절  2015-02-24       1   70     166      73   \n",
       "\n",
       "    bust  waist  ...  bt_mch_judge  bt_mchc_judge  bt_mvc_judge  \\\n",
       "0   92.0   88.0  ...           0.0            0.0           0.0   \n",
       "1   99.0   92.0  ...           NaN            NaN           NaN   \n",
       "2   96.0   88.0  ...           NaN            NaN           NaN   \n",
       "3  103.0   92.0  ...           0.0            0.0           0.0   \n",
       "4  100.0   91.0  ...           0.0            0.0           0.0   \n",
       "\n",
       "   bt_plat_judge  bt_rbc_judge  bt_wbc_judge  bt_rgpt_judge bt_sgot_judge  \\\n",
       "0            0.0           0.0           0.0            1.0           0.0   \n",
       "1            NaN           NaN           NaN            NaN           NaN   \n",
       "2            NaN           NaN           NaN            NaN           NaN   \n",
       "3            0.0           0.0           0.0            0.0           0.0   \n",
       "4            0.0           0.0           0.0            0.0           0.0   \n",
       "\n",
       "   bt_sgpt_judge  bt_trig_judge  \n",
       "0            0.0            0.0  \n",
       "1            NaN            NaN  \n",
       "2            NaN            NaN  \n",
       "3            0.0            0.0  \n",
       "4            1.0            0.0  \n",
       "\n",
       "[5 rows x 48 columns]"
      ]
     },
     "execution_count": 2,
     "metadata": {},
     "output_type": "execute_result"
    }
   ],
   "source": [
    "df_raw=pd.read_csv(\"/home/piai/Desktop/최종/insu_pre_review.csv\", engine='python', encoding='EUC-KR')\n",
    "df_raw.head()"
   ]
  },
  {
   "cell_type": "code",
   "execution_count": 3,
   "metadata": {},
   "outputs": [],
   "source": [
    "df_raw_blood=df_raw[df_raw[\"review_cat\"]==\"혈액검사\"]"
   ]
  },
  {
   "cell_type": "code",
   "execution_count": 4,
   "metadata": {},
   "outputs": [],
   "source": [
    "df_raw_blood[\"judge\"][df_raw_blood[\"judge\"]=='재검']=0\n",
    "df_raw_blood[\"judge\"][df_raw_blood[\"judge\"]=='승인']=0\n",
    "df_raw_blood[\"judge\"][df_raw_blood[\"judge\"]=='거절']=1"
   ]
  },
  {
   "cell_type": "code",
   "execution_count": 5,
   "metadata": {},
   "outputs": [],
   "source": [
    "df_raw_blood[\"bt_hbsa\"][df_raw_blood[\"bt_hbsa\"]=='NEGATIVE']=1\n",
    "df_raw_blood[\"bt_hbsa\"][df_raw_blood[\"bt_hbsa\"]=='POSITIVE']=0"
   ]
  },
  {
   "cell_type": "code",
   "execution_count": 6,
   "metadata": {},
   "outputs": [],
   "source": [
    "df_raw_blood_man=df_raw_blood[df_raw_blood[\"gender\"]==2]"
   ]
  },
  {
   "cell_type": "code",
   "execution_count": 7,
   "metadata": {},
   "outputs": [],
   "source": [
    "df_raw_blood_man=df_raw_blood_man.drop([\"customer_id\",\"review_cat\",\"review_date\",\"gender\",\"bust\",\"bp_max\",\"bp_min\",\\\n",
    "                                        \"pulse_count\",\"judge_score\",\"bt_chol_judge\",\"bt_crea_judge\",\"bt_gluc_judge\",\"bt_hb_judge\",\\\n",
    "                                        \"bt_hbsa_judge\",\"bt_hct_judge\",\"bt_mch_judge\",\"bt_mchc_judge\",\"bt_mvc_judge\",\"bt_plat_judge\",\\\n",
    "                                        \"bt_rbc_judge\",\"bt_wbc_judge\",\"bt_rgpt_judge\",\"bt_sgot_judge\",\"bt_sgpt_judge\",\"bt_trig_judge\"],axis=1)"
   ]
  },
  {
   "cell_type": "code",
   "execution_count": 8,
   "metadata": {},
   "outputs": [],
   "source": [
    "df_raw_blood_man.dropna(inplace=True)"
   ]
  },
  {
   "cell_type": "code",
   "execution_count": 9,
   "metadata": {},
   "outputs": [],
   "source": [
    "df_raw_blood_man[\"judge\"] = df_raw_blood_man[\"judge\"].astype(int)"
   ]
  },
  {
   "cell_type": "code",
   "execution_count": 10,
   "metadata": {},
   "outputs": [],
   "source": [
    "# get_dummies: 데이터의 문자형 변수에 대한 더미변수 생성\n",
    "df_raw_dummy=pd.get_dummies(df_raw_blood_man)\n",
    "\n",
    "# 더미변수 생성된 데이터의 상위 5개 row를 확인\n",
    "#df_raw_dummy.head()"
   ]
  },
  {
   "cell_type": "code",
   "execution_count": 11,
   "metadata": {},
   "outputs": [],
   "source": [
    "df_raw_y=df_raw_dummy[\"judge\"]\n",
    "df_raw_x=df_raw_dummy.drop([\"judge\"], axis=1,inplace=False)"
   ]
  },
  {
   "cell_type": "code",
   "execution_count": 12,
   "metadata": {},
   "outputs": [
    {
     "name": "stdout",
     "output_type": "stream",
     "text": [
      "train data X size : (326, 23)\n",
      "train data Y size : (326,)\n",
      "test data X size : (246, 23)\n",
      "test data Y size : (246,)\n",
      "validation data X size : (245, 23)\n",
      "validation data Y size : (245,)\n"
     ]
    }
   ],
   "source": [
    "# 데이터 분할 \n",
    "df_train_x,df_test_x,df_train_y,df_test_y=train_test_split(df_raw_x,df_raw_y,test_size=0.3,random_state=1234)\n",
    "df_train_x,df_validation_x,df_train_y,df_validation_y=train_test_split(df_train_x,df_train_y,test_size=3/7,random_state=1234)\n",
    "print(\"train data X size : {}\".format(df_train_x.shape))\n",
    "print(\"train data Y size : {}\".format(df_train_y.shape))\n",
    "print(\"test data X size : {}\".format(df_test_x.shape))\n",
    "print(\"test data Y size : {}\".format(df_test_y.shape))\n",
    "print(\"validation data X size : {}\".format(df_validation_x.shape))\n",
    "print(\"validation data Y size : {}\".format(df_validation_y.shape))"
   ]
  },
  {
   "cell_type": "markdown",
   "metadata": {},
   "source": [
    "# 2. 분류 모델 생성"
   ]
  },
  {
   "cell_type": "markdown",
   "metadata": {},
   "source": [
    "### 2-1 평가 저장 "
   ]
  },
  {
   "cell_type": "code",
   "execution_count": 13,
   "metadata": {},
   "outputs": [],
   "source": [
    "# 분석 모델 \n",
    "model =['DT', 'RF','GB','KNN']\n",
    "\n",
    "# 정확도 저장 \n",
    "train_accuracy=[]; test_accuracy=[]\n",
    "\n",
    "# f1 score 저장 \n",
    "model_f1_score=[]\n",
    "\n",
    "# auc score 저장 \n",
    "model_auc=[]\n",
    "\n",
    "# recall score 저장\n",
    "model_recall=[]"
   ]
  },
  {
   "cell_type": "markdown",
   "metadata": {},
   "source": [
    "### 2-2 의사결정나무 "
   ]
  },
  {
   "cell_type": "code",
   "execution_count": 14,
   "metadata": {},
   "outputs": [],
   "source": [
    "# 모델 생성 \n",
    "dt_model = DecisionTreeClassifier(random_state=1234, max_depth=3, min_samples_leaf=4)\n",
    "dt_model.fit(df_train_x, df_train_y)\n",
    "\n",
    "# train 정확도 \n",
    "train_accuracy.append(dt_model.score(df_train_x, df_train_y))\n",
    "\n",
    "# test 정확도 \n",
    "test_accuracy.append(dt_model.score(df_test_x, df_test_y))\n",
    "\n",
    "# 예측값 \n",
    "y_pred = dt_model.predict(df_test_x)\n",
    "\n",
    "# rou_curve(실제값, 예측값),fpr=FP/(FP+TN):거짓 양성 비율,tpr=TP/(TP+FN):진짜 양성 비율(재현율)\n",
    "fpr, tpr, thresholds = roc_curve(df_test_y, y_pred)\n",
    "roc_auc = auc(fpr, tpr)\n",
    "\n",
    "# auc 저장 \n",
    "model_auc.append(roc_auc)"
   ]
  },
  {
   "cell_type": "code",
   "execution_count": 15,
   "metadata": {},
   "outputs": [
    {
     "name": "stderr",
     "output_type": "stream",
     "text": [
      "findfont: Font family ['Malgun Gothic'] not found. Falling back to DejaVu Sans.\n"
     ]
    },
    {
     "data": {
      "image/png": "[encoded data removed]",
      "text/plain": [
       "<Figure size 432x288 with 1 Axes>"
      ]
     },
     "metadata": {
      "needs_background": "light"
     },
     "output_type": "display_data"
    }
   ],
   "source": [
    "# roc curve 그리기, label에 auc 표시 (소수점 2자리)\n",
    "plt.plot(fpr, tpr, label =\"AUC = %0.2f\"% roc_auc)\n",
    "plt.legend(loc=\"lower right\")\n",
    "plt.ylabel(\"TPR\");plt.xlabel(\"FPR\")\n",
    "plt.show()"
   ]
  },
  {
   "cell_type": "code",
   "execution_count": 16,
   "metadata": {},
   "outputs": [],
   "source": [
    "# f1 스코어 \n",
    "model_f1_score.append(f1_score(df_test_y, y_pred))\n",
    "model_recall.append(recall_score)"
   ]
  },
  {
   "cell_type": "code",
   "execution_count": 17,
   "metadata": {},
   "outputs": [],
   "source": [
    "rf_model = RandomForestClassifier(random_state=1234,n_estimators=22, max_depth=6)\n",
    "rf_model.fit(df_train_x, df_train_y)\n",
    "\n",
    "train_accuracy.append(rf_model.score(df_train_x, df_train_y))\n",
    "test_accuracy.append(rf_model.score(df_test_x, df_test_y))\n",
    "\n",
    "y_pred = rf_model.predict(df_test_x)\n",
    "\n",
    "fpr, tpr, thresholds = roc_curve(df_test_y, y_pred)\n",
    "roc_auc = auc(fpr, tpr)\n",
    "\n",
    "model_auc.append(roc_auc)\n"
   ]
  },
  {
   "cell_type": "code",
   "execution_count": 18,
   "metadata": {},
   "outputs": [
    {
     "data": {
      "image/png": "[encoded data removed]",
      "text/plain": [
       "<Figure size 432x288 with 1 Axes>"
      ]
     },
     "metadata": {
      "needs_background": "light"
     },
     "output_type": "display_data"
    }
   ],
   "source": [
    "plt.plot(fpr, tpr, label =\"AUC = %0.2f\"% roc_auc)\n",
    "plt.legend(loc=\"lower right\")\n",
    "plt.ylabel(\"TPR\");plt.xlabel(\"FPR\")\n",
    "plt.show()"
   ]
  },
  {
   "cell_type": "code",
   "execution_count": 19,
   "metadata": {},
   "outputs": [],
   "source": [
    "model_f1_score.append(f1_score(df_test_y, y_pred))\n",
    "model_recall.append(recall_score(df_test_y, y_pred))"
   ]
  },
  {
   "cell_type": "code",
   "execution_count": 20,
   "metadata": {},
   "outputs": [],
   "source": [
    "gb_final = GradientBoostingClassifier(random_state=1234,n_estimators=60, max_depth=3 \\\n",
    "                                  ,learning_rate=0.1,min_samples_split=80)\n",
    "\n",
    "gb_final.fit(df_train_x, df_train_y)\n",
    "\n",
    "train_accuracy.append(gb_final.score(df_train_x, df_train_y))\n",
    "test_accuracy.append(gb_final.score(df_test_x, df_test_y))\n",
    "\n",
    "y_pred = gb_final.predict(df_test_x)\n",
    "\n",
    "fpr, tpr, thresholds = roc_curve(df_test_y, y_pred)\n",
    "roc_auc = auc(fpr, tpr)\n",
    "\n",
    "model_auc.append(roc_auc)\n"
   ]
  },
  {
   "cell_type": "code",
   "execution_count": 21,
   "metadata": {},
   "outputs": [
    {
     "data": {
      "image/png": "[encoded data removed]",
      "text/plain": [
       "<Figure size 432x288 with 1 Axes>"
      ]
     },
     "metadata": {
      "needs_background": "light"
     },
     "output_type": "display_data"
    }
   ],
   "source": [
    "plt.plot(fpr, tpr, label =\"AUC = %0.2f\"% roc_auc)\n",
    "plt.legend(loc=\"lower right\")\n",
    "plt.ylabel(\"TPR\");plt.xlabel(\"FPR\")\n",
    "plt.show()"
   ]
  },
  {
   "cell_type": "code",
   "execution_count": 22,
   "metadata": {},
   "outputs": [],
   "source": [
    "model_f1_score.append(f1_score(df_test_y, y_pred))\n",
    "model_recall.append(recall_score(df_test_y, y_pred))"
   ]
  },
  {
   "cell_type": "code",
   "execution_count": 23,
   "metadata": {},
   "outputs": [],
   "source": [
    "KNN_model = KNeighborsClassifier(n_neighbors=2,weights=\"uniform\",metric=\"minkowski\")\n",
    "KNN_model.fit(df_train_x, df_train_y)\n",
    "\n",
    "train_accuracy.append(KNN_model.score(df_train_x, df_train_y))\n",
    "test_accuracy.append(KNN_model.score(df_test_x, df_test_y))\n",
    "\n",
    "y_pred = KNN_model.predict(df_test_x)\n",
    "\n",
    "fpr, tpr, thresholds = roc_curve(df_test_y, y_pred)\n",
    "roc_auc = auc(fpr, tpr)\n",
    "\n",
    "model_auc.append(roc_auc)"
   ]
  },
  {
   "cell_type": "code",
   "execution_count": 24,
   "metadata": {},
   "outputs": [
    {
     "data": {
      "image/png": "[encoded data removed]",
      "text/plain": [
       "<Figure size 432x288 with 1 Axes>"
      ]
     },
     "metadata": {
      "needs_background": "light"
     },
     "output_type": "display_data"
    }
   ],
   "source": [
    "plt.plot(fpr, tpr, label =\"AUC = %0.2f\"% roc_auc)\n",
    "plt.legend(loc=\"lower right\")\n",
    "plt.ylabel(\"TPR\");plt.xlabel(\"FPR\")\n",
    "plt.show()"
   ]
  },
  {
   "cell_type": "code",
   "execution_count": 25,
   "metadata": {},
   "outputs": [],
   "source": [
    "model_f1_score.append(f1_score(df_test_y, y_pred))\n",
    "model_recall.append(recall_score(df_test_y, y_pred))"
   ]
  },
  {
   "cell_type": "code",
   "execution_count": 26,
   "metadata": {},
   "outputs": [
    {
     "data": {
      "text/html": [
       "<div>\n",
       "<style scoped>\n",
       "    .dataframe tbody tr th:only-of-type {\n",
       "        vertical-align: middle;\n",
       "    }\n",
       "\n",
       "    .dataframe tbody tr th {\n",
       "        vertical-align: top;\n",
       "    }\n",
       "\n",
       "    .dataframe thead th {\n",
       "        text-align: right;\n",
       "    }\n",
       "</style>\n",
       "<table border=\"1\" class=\"dataframe\">\n",
       "  <thead>\n",
       "    <tr style=\"text-align: right;\">\n",
       "      <th></th>\n",
       "      <th>TrainAccuracy</th>\n",
       "      <th>TestAccuracy</th>\n",
       "      <th>F1Score</th>\n",
       "      <th>AUC</th>\n",
       "    </tr>\n",
       "  </thead>\n",
       "  <tbody>\n",
       "    <tr>\n",
       "      <th>DT</th>\n",
       "      <td>0.853</td>\n",
       "      <td>0.817</td>\n",
       "      <td>0.082</td>\n",
       "      <td>0.508</td>\n",
       "    </tr>\n",
       "    <tr>\n",
       "      <th>RF</th>\n",
       "      <td>0.890</td>\n",
       "      <td>0.837</td>\n",
       "      <td>0.048</td>\n",
       "      <td>0.510</td>\n",
       "    </tr>\n",
       "    <tr>\n",
       "      <th>GB</th>\n",
       "      <td>0.899</td>\n",
       "      <td>0.841</td>\n",
       "      <td>0.133</td>\n",
       "      <td>0.533</td>\n",
       "    </tr>\n",
       "    <tr>\n",
       "      <th>KNN</th>\n",
       "      <td>0.847</td>\n",
       "      <td>0.829</td>\n",
       "      <td>0.045</td>\n",
       "      <td>0.505</td>\n",
       "    </tr>\n",
       "  </tbody>\n",
       "</table>\n",
       "</div>"
      ],
      "text/plain": [
       "     TrainAccuracy  TestAccuracy  F1Score    AUC\n",
       "DT           0.853         0.817    0.082  0.508\n",
       "RF           0.890         0.837    0.048  0.510\n",
       "GB           0.899         0.841    0.133  0.533\n",
       "KNN          0.847         0.829    0.045  0.505"
      ]
     },
     "execution_count": 26,
     "metadata": {},
     "output_type": "execute_result"
    }
   ],
   "source": [
    "df_eval = pd.DataFrame(index=model)\n",
    "df_eval[\"TrainAccuracy\"] = train_accuracy\n",
    "df_eval[\"TestAccuracy\"] = test_accuracy\n",
    "df_eval[\"F1Score\"] = model_f1_score\n",
    "df_eval[\"AUC\"] = model_auc\n",
    "df_eval.round(3)"
   ]
  },
  {
   "cell_type": "code",
   "execution_count": 28,
   "metadata": {},
   "outputs": [
    {
     "data": {
      "image/png": "[encoded data removed]",
      "text/plain": [
       "<Figure size 576x432 with 1 Axes>"
      ]
     },
     "metadata": {
      "needs_background": "light"
     },
     "output_type": "display_data"
    }
   ],
   "source": [
    "df_eval.plot.bar(rot=0)\n",
    "plt.rcParams[\"figure.figsize\"]=(8,6)\n",
    "plt.legend(loc=\"upper left\")\n",
    "plt.grid(axis = \"y\") # 재현율 추가하기 "
   ]
  }
 ],
 "metadata": {
  "kernelspec": {
   "display_name": "Python 3",
   "language": "python",
   "name": "python3"
  },
  "language_info": {
   "codemirror_mode": {
    "name": "ipython",
    "version": 3
   },
   "file_extension": ".py",
   "mimetype": "text/x-python",
   "name": "python",
   "nbconvert_exporter": "python",
   "pygments_lexer": "ipython3",
   "version": "3.8.3"
  }
 },
 "nbformat": 4,
 "nbformat_minor": 4
}
