{
 "cells": [
  {
   "cell_type": "markdown",
   "metadata": {},
   "source": [
    "# 서포트 벡터 머신_연습"
   ]
  },
  {
   "cell_type": "markdown",
   "metadata": {},
   "source": [
    "### step0. 패키지 불러오기"
   ]
  },
  {
   "cell_type": "code",
   "execution_count": 1,
   "metadata": {},
   "outputs": [],
   "source": [
    "#패키지 불러오기 \n",
    "import pandas as pd \n",
    "\n",
    "#데이터 시각화\n",
    "import matplotlib.pyplot as plt\n",
    "import matplotlib\n",
    "\n",
    "#데이터 scaling\n",
    "from sklearn.preprocessing import StandardScaler\n",
    "\n",
    "#데이터 분할;train,test\n",
    "from sklearn.model_selection import train_test_split\n",
    "\n",
    "#분류SVM\n",
    "from sklearn.svm import SVC\n",
    "\n",
    "#최적 모델, 파라미터 검색\n",
    "from sklearn.model_selection import GridSearchCV\n",
    "\n",
    "#모델 성능 평가\n",
    "from sklearn.metrics import confusion_matrix"
   ]
  },
  {
   "cell_type": "markdown",
   "metadata": {},
   "source": [
    "### step1. 데이터 구성하기"
   ]
  },
  {
   "cell_type": "code",
   "execution_count": 2,
   "metadata": {
    "scrolled": true
   },
   "outputs": [
    {
     "data": {
      "text/html": [
       "<div>\n",
       "<style scoped>\n",
       "    .dataframe tbody tr th:only-of-type {\n",
       "        vertical-align: middle;\n",
       "    }\n",
       "\n",
       "    .dataframe tbody tr th {\n",
       "        vertical-align: top;\n",
       "    }\n",
       "\n",
       "    .dataframe thead th {\n",
       "        text-align: right;\n",
       "    }\n",
       "</style>\n",
       "<table border=\"1\" class=\"dataframe\">\n",
       "  <thead>\n",
       "    <tr style=\"text-align: right;\">\n",
       "      <th></th>\n",
       "      <th>customer_id</th>\n",
       "      <th>review_cat</th>\n",
       "      <th>judge</th>\n",
       "      <th>review_date</th>\n",
       "      <th>gender</th>\n",
       "      <th>age</th>\n",
       "      <th>height</th>\n",
       "      <th>weight</th>\n",
       "      <th>bust</th>\n",
       "      <th>waist</th>\n",
       "      <th>...</th>\n",
       "      <th>bt_mch_judge</th>\n",
       "      <th>bt_mchc_judge</th>\n",
       "      <th>bt_mvc_judge</th>\n",
       "      <th>bt_plat_judge</th>\n",
       "      <th>bt_rbc_judge</th>\n",
       "      <th>bt_wbc_judge</th>\n",
       "      <th>bt_rgpt_judge</th>\n",
       "      <th>bt_sgot_judge</th>\n",
       "      <th>bt_sgpt_judge</th>\n",
       "      <th>bt_trig_judge</th>\n",
       "    </tr>\n",
       "  </thead>\n",
       "  <tbody>\n",
       "    <tr>\n",
       "      <th>0</th>\n",
       "      <td>C112346</td>\n",
       "      <td>혈액검사</td>\n",
       "      <td>재검</td>\n",
       "      <td>2014-10-09</td>\n",
       "      <td>1</td>\n",
       "      <td>70</td>\n",
       "      <td>165</td>\n",
       "      <td>63</td>\n",
       "      <td>92.0</td>\n",
       "      <td>88.0</td>\n",
       "      <td>...</td>\n",
       "      <td>0.0</td>\n",
       "      <td>0.0</td>\n",
       "      <td>0.0</td>\n",
       "      <td>0.0</td>\n",
       "      <td>0.0</td>\n",
       "      <td>0.0</td>\n",
       "      <td>1.0</td>\n",
       "      <td>0.0</td>\n",
       "      <td>0.0</td>\n",
       "      <td>0.0</td>\n",
       "    </tr>\n",
       "    <tr>\n",
       "      <th>1</th>\n",
       "      <td>C112350</td>\n",
       "      <td>일반검진</td>\n",
       "      <td>재검</td>\n",
       "      <td>2014-11-18</td>\n",
       "      <td>1</td>\n",
       "      <td>69</td>\n",
       "      <td>178</td>\n",
       "      <td>75</td>\n",
       "      <td>99.0</td>\n",
       "      <td>92.0</td>\n",
       "      <td>...</td>\n",
       "      <td>NaN</td>\n",
       "      <td>NaN</td>\n",
       "      <td>NaN</td>\n",
       "      <td>NaN</td>\n",
       "      <td>NaN</td>\n",
       "      <td>NaN</td>\n",
       "      <td>NaN</td>\n",
       "      <td>NaN</td>\n",
       "      <td>NaN</td>\n",
       "      <td>NaN</td>\n",
       "    </tr>\n",
       "    <tr>\n",
       "      <th>2</th>\n",
       "      <td>C112355</td>\n",
       "      <td>일반검진</td>\n",
       "      <td>재검</td>\n",
       "      <td>2015-03-18</td>\n",
       "      <td>1</td>\n",
       "      <td>70</td>\n",
       "      <td>169</td>\n",
       "      <td>69</td>\n",
       "      <td>96.0</td>\n",
       "      <td>88.0</td>\n",
       "      <td>...</td>\n",
       "      <td>NaN</td>\n",
       "      <td>NaN</td>\n",
       "      <td>NaN</td>\n",
       "      <td>NaN</td>\n",
       "      <td>NaN</td>\n",
       "      <td>NaN</td>\n",
       "      <td>NaN</td>\n",
       "      <td>NaN</td>\n",
       "      <td>NaN</td>\n",
       "      <td>NaN</td>\n",
       "    </tr>\n",
       "    <tr>\n",
       "      <th>3</th>\n",
       "      <td>C112356</td>\n",
       "      <td>혈액검사</td>\n",
       "      <td>재검</td>\n",
       "      <td>2015-09-28</td>\n",
       "      <td>1</td>\n",
       "      <td>70</td>\n",
       "      <td>165</td>\n",
       "      <td>64</td>\n",
       "      <td>103.0</td>\n",
       "      <td>92.0</td>\n",
       "      <td>...</td>\n",
       "      <td>0.0</td>\n",
       "      <td>0.0</td>\n",
       "      <td>0.0</td>\n",
       "      <td>0.0</td>\n",
       "      <td>0.0</td>\n",
       "      <td>0.0</td>\n",
       "      <td>0.0</td>\n",
       "      <td>0.0</td>\n",
       "      <td>0.0</td>\n",
       "      <td>0.0</td>\n",
       "    </tr>\n",
       "    <tr>\n",
       "      <th>4</th>\n",
       "      <td>C112358</td>\n",
       "      <td>혈액검사</td>\n",
       "      <td>거절</td>\n",
       "      <td>2015-02-24</td>\n",
       "      <td>1</td>\n",
       "      <td>70</td>\n",
       "      <td>166</td>\n",
       "      <td>73</td>\n",
       "      <td>100.0</td>\n",
       "      <td>91.0</td>\n",
       "      <td>...</td>\n",
       "      <td>0.0</td>\n",
       "      <td>0.0</td>\n",
       "      <td>0.0</td>\n",
       "      <td>0.0</td>\n",
       "      <td>0.0</td>\n",
       "      <td>0.0</td>\n",
       "      <td>0.0</td>\n",
       "      <td>0.0</td>\n",
       "      <td>1.0</td>\n",
       "      <td>0.0</td>\n",
       "    </tr>\n",
       "  </tbody>\n",
       "</table>\n",
       "<p>5 rows × 48 columns</p>\n",
       "</div>"
      ],
      "text/plain": [
       "  customer_id review_cat judge review_date  gender  age  height  weight  \\\n",
       "0     C112346       혈액검사    재검  2014-10-09       1   70     165      63   \n",
       "1     C112350       일반검진    재검  2014-11-18       1   69     178      75   \n",
       "2     C112355       일반검진    재검  2015-03-18       1   70     169      69   \n",
       "3     C112356       혈액검사    재검  2015-09-28       1   70     165      64   \n",
       "4     C112358       혈액검사    거절  2015-02-24       1   70     166      73   \n",
       "\n",
       "    bust  waist  ...  bt_mch_judge  bt_mchc_judge  bt_mvc_judge  \\\n",
       "0   92.0   88.0  ...           0.0            0.0           0.0   \n",
       "1   99.0   92.0  ...           NaN            NaN           NaN   \n",
       "2   96.0   88.0  ...           NaN            NaN           NaN   \n",
       "3  103.0   92.0  ...           0.0            0.0           0.0   \n",
       "4  100.0   91.0  ...           0.0            0.0           0.0   \n",
       "\n",
       "   bt_plat_judge  bt_rbc_judge  bt_wbc_judge  bt_rgpt_judge bt_sgot_judge  \\\n",
       "0            0.0           0.0           0.0            1.0           0.0   \n",
       "1            NaN           NaN           NaN            NaN           NaN   \n",
       "2            NaN           NaN           NaN            NaN           NaN   \n",
       "3            0.0           0.0           0.0            0.0           0.0   \n",
       "4            0.0           0.0           0.0            0.0           0.0   \n",
       "\n",
       "   bt_sgpt_judge  bt_trig_judge  \n",
       "0            0.0            0.0  \n",
       "1            NaN            NaN  \n",
       "2            NaN            NaN  \n",
       "3            0.0            0.0  \n",
       "4            1.0            0.0  \n",
       "\n",
       "[5 rows x 48 columns]"
      ]
     },
     "execution_count": 2,
     "metadata": {},
     "output_type": "execute_result"
    }
   ],
   "source": [
    "df_raw=pd.read_csv(\"/home/piai/Desktop/최종/insu_pre_review.csv\", engine='python', encoding='EUC-KR')\n",
    "df_raw.head()"
   ]
  },
  {
   "cell_type": "code",
   "execution_count": 3,
   "metadata": {},
   "outputs": [],
   "source": [
    "df_raw_blood=df_raw[df_raw[\"review_cat\"]==\"혈액검사\"]"
   ]
  },
  {
   "cell_type": "code",
   "execution_count": 4,
   "metadata": {},
   "outputs": [
    {
     "name": "stderr",
     "output_type": "stream",
     "text": [
      "<ipython-input-4-c825a8209013>:1: SettingWithCopyWarning: \n",
      "A value is trying to be set on a copy of a slice from a DataFrame\n",
      "\n",
      "See the caveats in the documentation: https://pandas.pydata.org/pandas-docs/stable/user_guide/indexing.html#returning-a-view-versus-a-copy\n",
      "  df_raw_blood[\"judge\"][df_raw_blood[\"judge\"]=='재검']=0\n",
      "/home/piai/anaconda3/lib/python3.8/site-packages/pandas/core/generic.py:8765: SettingWithCopyWarning: \n",
      "A value is trying to be set on a copy of a slice from a DataFrame\n",
      "\n",
      "See the caveats in the documentation: https://pandas.pydata.org/pandas-docs/stable/user_guide/indexing.html#returning-a-view-versus-a-copy\n",
      "  self._update_inplace(new_data)\n",
      "<ipython-input-4-c825a8209013>:2: SettingWithCopyWarning: \n",
      "A value is trying to be set on a copy of a slice from a DataFrame\n",
      "\n",
      "See the caveats in the documentation: https://pandas.pydata.org/pandas-docs/stable/user_guide/indexing.html#returning-a-view-versus-a-copy\n",
      "  df_raw_blood[\"judge\"][df_raw_blood[\"judge\"]=='승인']=0\n",
      "<ipython-input-4-c825a8209013>:3: SettingWithCopyWarning: \n",
      "A value is trying to be set on a copy of a slice from a DataFrame\n",
      "\n",
      "See the caveats in the documentation: https://pandas.pydata.org/pandas-docs/stable/user_guide/indexing.html#returning-a-view-versus-a-copy\n",
      "  df_raw_blood[\"judge\"][df_raw_blood[\"judge\"]=='거절']=1\n"
     ]
    }
   ],
   "source": [
    "df_raw_blood[\"judge\"][df_raw_blood[\"judge\"]=='재검']=0\n",
    "df_raw_blood[\"judge\"][df_raw_blood[\"judge\"]=='승인']=0\n",
    "df_raw_blood[\"judge\"][df_raw_blood[\"judge\"]=='거절']=1"
   ]
  },
  {
   "cell_type": "code",
   "execution_count": 5,
   "metadata": {},
   "outputs": [
    {
     "name": "stderr",
     "output_type": "stream",
     "text": [
      "<ipython-input-5-ccb828b7e37f>:1: SettingWithCopyWarning: \n",
      "A value is trying to be set on a copy of a slice from a DataFrame\n",
      "\n",
      "See the caveats in the documentation: https://pandas.pydata.org/pandas-docs/stable/user_guide/indexing.html#returning-a-view-versus-a-copy\n",
      "  df_raw_blood[\"bt_hbsa\"][df_raw_blood[\"bt_hbsa\"]=='NEGATIVE']=1\n",
      "<ipython-input-5-ccb828b7e37f>:2: SettingWithCopyWarning: \n",
      "A value is trying to be set on a copy of a slice from a DataFrame\n",
      "\n",
      "See the caveats in the documentation: https://pandas.pydata.org/pandas-docs/stable/user_guide/indexing.html#returning-a-view-versus-a-copy\n",
      "  df_raw_blood[\"bt_hbsa\"][df_raw_blood[\"bt_hbsa\"]=='POSITIVE']=0\n"
     ]
    }
   ],
   "source": [
    "df_raw_blood[\"bt_hbsa\"][df_raw_blood[\"bt_hbsa\"]=='NEGATIVE']=1\n",
    "df_raw_blood[\"bt_hbsa\"][df_raw_blood[\"bt_hbsa\"]=='POSITIVE']=0"
   ]
  },
  {
   "cell_type": "code",
   "execution_count": 6,
   "metadata": {},
   "outputs": [],
   "source": [
    "df_raw_blood_man=df_raw_blood[df_raw_blood[\"gender\"]==1]"
   ]
  },
  {
   "cell_type": "code",
   "execution_count": 7,
   "metadata": {},
   "outputs": [],
   "source": [
    "df_raw_blood_man=df_raw_blood_man.drop([\"customer_id\",\"review_cat\",\"review_date\",\"gender\",\"bust\",\"bp_max\",\"bp_min\",\\\n",
    "                                        \"pulse_count\",\"judge_score\",\"bt_chol_judge\",\"bt_crea_judge\",\"bt_gluc_judge\",\"bt_hb_judge\",\\\n",
    "                                        \"bt_hbsa_judge\",\"bt_hct_judge\",\"bt_mch_judge\",\"bt_mchc_judge\",\"bt_mvc_judge\",\"bt_plat_judge\",\\\n",
    "                                        \"bt_rbc_judge\",\"bt_wbc_judge\",\"bt_rgpt_judge\",\"bt_sgot_judge\",\"bt_sgpt_judge\",\"bt_trig_judge\"],axis=1)"
   ]
  },
  {
   "cell_type": "code",
   "execution_count": 8,
   "metadata": {},
   "outputs": [],
   "source": [
    "df_raw_blood_man.dropna(inplace=True)"
   ]
  },
  {
   "cell_type": "code",
   "execution_count": 9,
   "metadata": {},
   "outputs": [],
   "source": [
    "df_raw_blood_man[\"judge\"] = df_raw_blood_man[\"judge\"].astype(int)"
   ]
  },
  {
   "cell_type": "code",
   "execution_count": 10,
   "metadata": {},
   "outputs": [
    {
     "data": {
      "text/html": [
       "<div>\n",
       "<style scoped>\n",
       "    .dataframe tbody tr th:only-of-type {\n",
       "        vertical-align: middle;\n",
       "    }\n",
       "\n",
       "    .dataframe tbody tr th {\n",
       "        vertical-align: top;\n",
       "    }\n",
       "\n",
       "    .dataframe thead th {\n",
       "        text-align: right;\n",
       "    }\n",
       "</style>\n",
       "<table border=\"1\" class=\"dataframe\">\n",
       "  <thead>\n",
       "    <tr style=\"text-align: right;\">\n",
       "      <th></th>\n",
       "      <th>judge</th>\n",
       "      <th>age</th>\n",
       "      <th>height</th>\n",
       "      <th>weight</th>\n",
       "      <th>waist</th>\n",
       "      <th>bt_chol</th>\n",
       "      <th>bt_crea</th>\n",
       "      <th>bt_gluc</th>\n",
       "      <th>bt_hb</th>\n",
       "      <th>bt_hct</th>\n",
       "      <th>...</th>\n",
       "      <th>bt_rbc</th>\n",
       "      <th>bt_wbc</th>\n",
       "      <th>bt_rgpt</th>\n",
       "      <th>bt_sgot</th>\n",
       "      <th>bt_sgpt</th>\n",
       "      <th>bt_trig</th>\n",
       "      <th>bp_judge</th>\n",
       "      <th>pulse_count_judge</th>\n",
       "      <th>bt_hbsa_0</th>\n",
       "      <th>bt_hbsa_1</th>\n",
       "    </tr>\n",
       "  </thead>\n",
       "  <tbody>\n",
       "    <tr>\n",
       "      <th>5</th>\n",
       "      <td>0</td>\n",
       "      <td>70</td>\n",
       "      <td>169</td>\n",
       "      <td>70</td>\n",
       "      <td>90.0</td>\n",
       "      <td>223.0</td>\n",
       "      <td>1.0</td>\n",
       "      <td>72.0</td>\n",
       "      <td>16.9</td>\n",
       "      <td>50.3</td>\n",
       "      <td>...</td>\n",
       "      <td>519.0</td>\n",
       "      <td>7500.0</td>\n",
       "      <td>45.0</td>\n",
       "      <td>23.0</td>\n",
       "      <td>30.0</td>\n",
       "      <td>169.0</td>\n",
       "      <td>1</td>\n",
       "      <td>0</td>\n",
       "      <td>0</td>\n",
       "      <td>1</td>\n",
       "    </tr>\n",
       "    <tr>\n",
       "      <th>20</th>\n",
       "      <td>0</td>\n",
       "      <td>69</td>\n",
       "      <td>170</td>\n",
       "      <td>70</td>\n",
       "      <td>86.0</td>\n",
       "      <td>202.0</td>\n",
       "      <td>1.0</td>\n",
       "      <td>111.0</td>\n",
       "      <td>15.0</td>\n",
       "      <td>47.4</td>\n",
       "      <td>...</td>\n",
       "      <td>453.0</td>\n",
       "      <td>4800.0</td>\n",
       "      <td>34.0</td>\n",
       "      <td>22.0</td>\n",
       "      <td>20.0</td>\n",
       "      <td>70.0</td>\n",
       "      <td>0</td>\n",
       "      <td>0</td>\n",
       "      <td>0</td>\n",
       "      <td>1</td>\n",
       "    </tr>\n",
       "    <tr>\n",
       "      <th>29</th>\n",
       "      <td>0</td>\n",
       "      <td>69</td>\n",
       "      <td>170</td>\n",
       "      <td>65</td>\n",
       "      <td>84.0</td>\n",
       "      <td>192.0</td>\n",
       "      <td>1.0</td>\n",
       "      <td>73.0</td>\n",
       "      <td>14.5</td>\n",
       "      <td>43.9</td>\n",
       "      <td>...</td>\n",
       "      <td>480.0</td>\n",
       "      <td>6200.0</td>\n",
       "      <td>25.0</td>\n",
       "      <td>13.0</td>\n",
       "      <td>13.0</td>\n",
       "      <td>150.0</td>\n",
       "      <td>1</td>\n",
       "      <td>0</td>\n",
       "      <td>0</td>\n",
       "      <td>1</td>\n",
       "    </tr>\n",
       "    <tr>\n",
       "      <th>31</th>\n",
       "      <td>0</td>\n",
       "      <td>69</td>\n",
       "      <td>178</td>\n",
       "      <td>77</td>\n",
       "      <td>83.0</td>\n",
       "      <td>177.0</td>\n",
       "      <td>1.0</td>\n",
       "      <td>80.0</td>\n",
       "      <td>15.1</td>\n",
       "      <td>45.6</td>\n",
       "      <td>...</td>\n",
       "      <td>474.0</td>\n",
       "      <td>6500.0</td>\n",
       "      <td>34.0</td>\n",
       "      <td>20.0</td>\n",
       "      <td>21.0</td>\n",
       "      <td>78.0</td>\n",
       "      <td>0</td>\n",
       "      <td>0</td>\n",
       "      <td>0</td>\n",
       "      <td>1</td>\n",
       "    </tr>\n",
       "    <tr>\n",
       "      <th>43</th>\n",
       "      <td>0</td>\n",
       "      <td>69</td>\n",
       "      <td>169</td>\n",
       "      <td>68</td>\n",
       "      <td>89.0</td>\n",
       "      <td>235.0</td>\n",
       "      <td>0.8</td>\n",
       "      <td>85.0</td>\n",
       "      <td>12.1</td>\n",
       "      <td>39.0</td>\n",
       "      <td>...</td>\n",
       "      <td>392.0</td>\n",
       "      <td>6700.0</td>\n",
       "      <td>29.0</td>\n",
       "      <td>21.0</td>\n",
       "      <td>23.0</td>\n",
       "      <td>88.0</td>\n",
       "      <td>0</td>\n",
       "      <td>0</td>\n",
       "      <td>0</td>\n",
       "      <td>1</td>\n",
       "    </tr>\n",
       "  </tbody>\n",
       "</table>\n",
       "<p>5 rows × 24 columns</p>\n",
       "</div>"
      ],
      "text/plain": [
       "    judge  age  height  weight  waist  bt_chol  bt_crea  bt_gluc  bt_hb  \\\n",
       "5       0   70     169      70   90.0    223.0      1.0     72.0   16.9   \n",
       "20      0   69     170      70   86.0    202.0      1.0    111.0   15.0   \n",
       "29      0   69     170      65   84.0    192.0      1.0     73.0   14.5   \n",
       "31      0   69     178      77   83.0    177.0      1.0     80.0   15.1   \n",
       "43      0   69     169      68   89.0    235.0      0.8     85.0   12.1   \n",
       "\n",
       "    bt_hct  ...  bt_rbc  bt_wbc  bt_rgpt  bt_sgot  bt_sgpt  bt_trig  bp_judge  \\\n",
       "5     50.3  ...   519.0  7500.0     45.0     23.0     30.0    169.0         1   \n",
       "20    47.4  ...   453.0  4800.0     34.0     22.0     20.0     70.0         0   \n",
       "29    43.9  ...   480.0  6200.0     25.0     13.0     13.0    150.0         1   \n",
       "31    45.6  ...   474.0  6500.0     34.0     20.0     21.0     78.0         0   \n",
       "43    39.0  ...   392.0  6700.0     29.0     21.0     23.0     88.0         0   \n",
       "\n",
       "    pulse_count_judge  bt_hbsa_0  bt_hbsa_1  \n",
       "5                   0          0          1  \n",
       "20                  0          0          1  \n",
       "29                  0          0          1  \n",
       "31                  0          0          1  \n",
       "43                  0          0          1  \n",
       "\n",
       "[5 rows x 24 columns]"
      ]
     },
     "execution_count": 10,
     "metadata": {},
     "output_type": "execute_result"
    }
   ],
   "source": [
    "# get_dummies: 데이터의 문자형 변수에 대한 더미변수 생성\n",
    "df_raw_dummy=pd.get_dummies(df_raw_blood_man)\n",
    "\n",
    "# 더미변수 생성된 데이터의 상위 5개 row를 확인\n",
    "df_raw_dummy.head()"
   ]
  },
  {
   "cell_type": "code",
   "execution_count": 11,
   "metadata": {},
   "outputs": [],
   "source": [
    "#데이터 구성하기 -데이터 분할\n",
    "df_raw_y=df_raw_dummy[\"judge\"]\n",
    "df_raw_x=df_raw_dummy.drop([\"judge\"], axis=1,inplace=False)"
   ]
  },
  {
   "cell_type": "code",
   "execution_count": 12,
   "metadata": {},
   "outputs": [
    {
     "name": "stdout",
     "output_type": "stream",
     "text": [
      "train data X size : (858, 23)\n",
      "train data Y size : (858,)\n",
      "test data X size : (644, 23)\n",
      "test data Y size : (644,)\n",
      "validation data X size : (644, 23)\n",
      "validation data Y size : (644,)\n"
     ]
    }
   ],
   "source": [
    "# 데이터 분할 \n",
    "df_train_x,df_test_x,df_train_y,df_test_y=train_test_split(df_raw_x,df_raw_y,test_size=0.3,random_state=1234)\n",
    "df_train_x,df_validation_x,df_train_y,df_validation_y=train_test_split(df_train_x,df_train_y,test_size=3/7,random_state=1234)\n",
    "print(\"train data X size : {}\".format(df_train_x.shape))\n",
    "print(\"train data Y size : {}\".format(df_train_y.shape))\n",
    "print(\"test data X size : {}\".format(df_test_x.shape))\n",
    "print(\"test data Y size : {}\".format(df_test_y.shape))\n",
    "print(\"validation data X size : {}\".format(df_validation_x.shape))\n",
    "print(\"validation data Y size : {}\".format(df_validation_y.shape))"
   ]
  },
  {
   "cell_type": "markdown",
   "metadata": {},
   "source": [
    "### step2: SVC 모델 생성"
   ]
  },
  {
   "cell_type": "code",
   "execution_count": 13,
   "metadata": {},
   "outputs": [
    {
     "name": "stdout",
     "output_type": "stream",
     "text": [
      "Accuracy on training set:0.772\n",
      "Accuracy on test set:0.762\n"
     ]
    }
   ],
   "source": [
    "#SCV모델 생성\n",
    "svm_uncustomized=SVC(random_state=1234)\n",
    "svm_uncustomized.fit(df_train_x,df_train_y)\n",
    "#train 데이터 셋 정확도\n",
    "print(\"Accuracy on training set:{:.3f}\".format(svm_uncustomized.score(df_train_x, df_train_y)))\n",
    "#test 데이터 셋 정확도\n",
    "print(\"Accuracy on test set:{:.3f}\".format(svm_uncustomized.score(df_test_x,df_test_y)))"
   ]
  },
  {
   "cell_type": "code",
   "execution_count": 14,
   "metadata": {},
   "outputs": [
    {
     "data": {
      "text/plain": [
       "SVC(random_state=1234)"
      ]
     },
     "execution_count": 14,
     "metadata": {},
     "output_type": "execute_result"
    }
   ],
   "source": [
    "#현재 생성된 그래디언트 부스팅 모델의 옵션확인\n",
    "svm_uncustomized"
   ]
  },
  {
   "cell_type": "markdown",
   "metadata": {},
   "source": [
    "### step2: SVC 모델 Parameter 변경"
   ]
  },
  {
   "cell_type": "markdown",
   "metadata": {},
   "source": [
    "- C: 규제에 대한 강도 변경"
   ]
  },
  {
   "cell_type": "code",
   "execution_count": 15,
   "metadata": {},
   "outputs": [
    {
     "data": {
      "text/html": [
       "<div>\n",
       "<style scoped>\n",
       "    .dataframe tbody tr th:only-of-type {\n",
       "        vertical-align: middle;\n",
       "    }\n",
       "\n",
       "    .dataframe tbody tr th {\n",
       "        vertical-align: top;\n",
       "    }\n",
       "\n",
       "    .dataframe thead th {\n",
       "        text-align: right;\n",
       "    }\n",
       "</style>\n",
       "<table border=\"1\" class=\"dataframe\">\n",
       "  <thead>\n",
       "    <tr style=\"text-align: right;\">\n",
       "      <th></th>\n",
       "      <th>C</th>\n",
       "      <th>TrainAccuracy</th>\n",
       "      <th>TestAccuracy</th>\n",
       "    </tr>\n",
       "  </thead>\n",
       "  <tbody>\n",
       "    <tr>\n",
       "      <th>0</th>\n",
       "      <td>0.01</td>\n",
       "      <td>0.772</td>\n",
       "      <td>0.762</td>\n",
       "    </tr>\n",
       "    <tr>\n",
       "      <th>1</th>\n",
       "      <td>0.10</td>\n",
       "      <td>0.772</td>\n",
       "      <td>0.762</td>\n",
       "    </tr>\n",
       "    <tr>\n",
       "      <th>2</th>\n",
       "      <td>1.00</td>\n",
       "      <td>0.772</td>\n",
       "      <td>0.762</td>\n",
       "    </tr>\n",
       "    <tr>\n",
       "      <th>3</th>\n",
       "      <td>10.00</td>\n",
       "      <td>0.772</td>\n",
       "      <td>0.762</td>\n",
       "    </tr>\n",
       "  </tbody>\n",
       "</table>\n",
       "</div>"
      ],
      "text/plain": [
       "       C  TrainAccuracy  TestAccuracy\n",
       "0   0.01          0.772         0.762\n",
       "1   0.10          0.772         0.762\n",
       "2   1.00          0.772         0.762\n",
       "3  10.00          0.772         0.762"
      ]
     },
     "execution_count": 15,
     "metadata": {},
     "output_type": "execute_result"
    }
   ],
   "source": [
    "#모델 parameter 조정\n",
    "#C; 규제에 대한 강도 변경\n",
    "#train 및 test 정확도 결과 저장용\n",
    "train_accuracy =[]; test_accuracy=[]\n",
    "#lc; 규제 (0.01,0.1,1,10)\n",
    "para_c=[10**c for c in range(-2,2)]\n",
    "for v_C in para_c:\n",
    "    svm=SVC(C=v_C,random_state=1234)\n",
    "    svm.fit(df_train_x,df_train_y)\n",
    "    train_accuracy.append(svm.score(df_train_x,df_train_y))\n",
    "    test_accuracy.append(svm.score(df_test_x,df_test_y))\n",
    "#데이터 테이블로 저장 \n",
    "df_accuracy_c=pd.DataFrame()\n",
    "df_accuracy_c[\"C\"]=para_c\n",
    "df_accuracy_c[\"TrainAccuracy\"]=train_accuracy\n",
    "df_accuracy_c[\"TestAccuracy\"]=test_accuracy\n",
    "#C별 정확도 테이블\n",
    "df_accuracy_c.round(3)"
   ]
  },
  {
   "cell_type": "markdown",
   "metadata": {},
   "source": [
    "- C: 규제에 대한 강도 변경 결과"
   ]
  },
  {
   "cell_type": "code",
   "execution_count": 16,
   "metadata": {},
   "outputs": [
    {
     "data": {
      "text/plain": [
       "<matplotlib.legend.Legend at 0x7f65ae0854f0>"
      ]
     },
     "execution_count": 16,
     "metadata": {},
     "output_type": "execute_result"
    },
    {
     "data": {
      "image/png": "[encoded data removed]",
      "text/plain": [
       "<Figure size 432x288 with 1 Axes>"
      ]
     },
     "metadata": {
      "needs_background": "light"
     },
     "output_type": "display_data"
    }
   ],
   "source": [
    "#C별 정확도 그래프로 확인\n",
    "plt.plot(para_c,train_accuracy,linestyle=\"-\",label=\"Train Accuracy\")\n",
    "plt.plot(para_c,test_accuracy,linestyle=\"--\",label=\"Test Accuracy\")\n",
    "plt.xlabel(\"Accuracy\"); plt.ylabel(\"C\")\n",
    "plt.legend()"
   ]
  },
  {
   "cell_type": "markdown",
   "metadata": {},
   "source": [
    "- Gamma: 훈련 샘플이 미치는 영향의 범위를 변경"
   ]
  },
  {
   "cell_type": "code",
   "execution_count": 17,
   "metadata": {},
   "outputs": [
    {
     "data": {
      "text/html": [
       "<div>\n",
       "<style scoped>\n",
       "    .dataframe tbody tr th:only-of-type {\n",
       "        vertical-align: middle;\n",
       "    }\n",
       "\n",
       "    .dataframe tbody tr th {\n",
       "        vertical-align: top;\n",
       "    }\n",
       "\n",
       "    .dataframe thead th {\n",
       "        text-align: right;\n",
       "    }\n",
       "</style>\n",
       "<table border=\"1\" class=\"dataframe\">\n",
       "  <thead>\n",
       "    <tr style=\"text-align: right;\">\n",
       "      <th></th>\n",
       "      <th>C</th>\n",
       "      <th>TrainAccuracy</th>\n",
       "      <th>TestAccuracy</th>\n",
       "    </tr>\n",
       "  </thead>\n",
       "  <tbody>\n",
       "    <tr>\n",
       "      <th>0</th>\n",
       "      <td>0.01</td>\n",
       "      <td>0.772</td>\n",
       "      <td>0.762</td>\n",
       "    </tr>\n",
       "    <tr>\n",
       "      <th>1</th>\n",
       "      <td>0.10</td>\n",
       "      <td>0.772</td>\n",
       "      <td>0.762</td>\n",
       "    </tr>\n",
       "    <tr>\n",
       "      <th>2</th>\n",
       "      <td>1.00</td>\n",
       "      <td>0.772</td>\n",
       "      <td>0.762</td>\n",
       "    </tr>\n",
       "    <tr>\n",
       "      <th>3</th>\n",
       "      <td>10.00</td>\n",
       "      <td>0.772</td>\n",
       "      <td>0.762</td>\n",
       "    </tr>\n",
       "  </tbody>\n",
       "</table>\n",
       "</div>"
      ],
      "text/plain": [
       "       C  TrainAccuracy  TestAccuracy\n",
       "0   0.01          0.772         0.762\n",
       "1   0.10          0.772         0.762\n",
       "2   1.00          0.772         0.762\n",
       "3  10.00          0.772         0.762"
      ]
     },
     "execution_count": 17,
     "metadata": {},
     "output_type": "execute_result"
    }
   ],
   "source": [
    "#Gamma: 훈련 샘플이 미치는 영향의 범위를 변경\n",
    "#train 및 test 정확도 결과 저장용\n",
    "train_accuracy =[]; test_accuracy=[]\n",
    "#lc; 규제 (0.01,0.1,1,10)\n",
    "para_gamma=[10**gamma for gamma in range(-2,2)]\n",
    "for v_gamma in para_gamma:\n",
    "    svm=SVC(gamma=v_gamma,C=0.2 ,random_state=1234)\n",
    "    svm.fit(df_train_x,df_train_y)\n",
    "    train_accuracy.append(svm.score(df_train_x,df_train_y))\n",
    "    test_accuracy.append(svm.score(df_test_x,df_test_y))\n",
    "#데이터 테이블로 저장 \n",
    "df_accuracy_gamma=pd.DataFrame()\n",
    "df_accuracy_gamma[\"gamma\"]=para_gamma\n",
    "df_accuracy_gamma[\"TrainAccuracy\"]=train_accuracy\n",
    "df_accuracy_gamma[\"TestAccuracy\"]=test_accuracy\n",
    "#C별 정확도 테이블\n",
    "df_accuracy_c.round(3)"
   ]
  },
  {
   "cell_type": "markdown",
   "metadata": {},
   "source": [
    "- Gamma: 훈련 샘플이 미치는 영향의 범위를 변경 결과"
   ]
  },
  {
   "cell_type": "code",
   "execution_count": 18,
   "metadata": {},
   "outputs": [
    {
     "data": {
      "text/plain": [
       "<matplotlib.legend.Legend at 0x7f65add24bb0>"
      ]
     },
     "execution_count": 18,
     "metadata": {},
     "output_type": "execute_result"
    },
    {
     "data": {
      "image/png": "[encoded data removed]",
      "text/plain": [
       "<Figure size 432x288 with 1 Axes>"
      ]
     },
     "metadata": {
      "needs_background": "light"
     },
     "output_type": "display_data"
    }
   ],
   "source": [
    "#Gamma별 정확도 그래프로 확인\n",
    "plt.plot(para_gamma,train_accuracy,linestyle=\"-\",label=\"Train Accuracy\")\n",
    "plt.plot(para_gamma,test_accuracy,linestyle=\"--\",label=\"Test Accuracy\")\n",
    "plt.xlabel(\"Accuracy\"); plt.ylabel(\"Gamma\")\n",
    "plt.legend()"
   ]
  },
  {
   "cell_type": "markdown",
   "metadata": {},
   "source": [
    "### step2: scale 변환"
   ]
  },
  {
   "cell_type": "code",
   "execution_count": 19,
   "metadata": {},
   "outputs": [
    {
     "data": {
      "text/html": [
       "<div>\n",
       "<style scoped>\n",
       "    .dataframe tbody tr th:only-of-type {\n",
       "        vertical-align: middle;\n",
       "    }\n",
       "\n",
       "    .dataframe tbody tr th {\n",
       "        vertical-align: top;\n",
       "    }\n",
       "\n",
       "    .dataframe thead th {\n",
       "        text-align: right;\n",
       "    }\n",
       "</style>\n",
       "<table border=\"1\" class=\"dataframe\">\n",
       "  <thead>\n",
       "    <tr style=\"text-align: right;\">\n",
       "      <th></th>\n",
       "      <th>age</th>\n",
       "      <th>height</th>\n",
       "      <th>weight</th>\n",
       "      <th>waist</th>\n",
       "      <th>bt_chol</th>\n",
       "      <th>bt_crea</th>\n",
       "      <th>bt_gluc</th>\n",
       "      <th>bt_hb</th>\n",
       "      <th>bt_hct</th>\n",
       "      <th>bt_mch</th>\n",
       "      <th>...</th>\n",
       "      <th>bt_rbc</th>\n",
       "      <th>bt_wbc</th>\n",
       "      <th>bt_rgpt</th>\n",
       "      <th>bt_sgot</th>\n",
       "      <th>bt_sgpt</th>\n",
       "      <th>bt_trig</th>\n",
       "      <th>bp_judge</th>\n",
       "      <th>pulse_count_judge</th>\n",
       "      <th>bt_hbsa_0</th>\n",
       "      <th>bt_hbsa_1</th>\n",
       "    </tr>\n",
       "  </thead>\n",
       "  <tbody>\n",
       "    <tr>\n",
       "      <th>0</th>\n",
       "      <td>2.354509</td>\n",
       "      <td>-0.218038</td>\n",
       "      <td>-0.104449</td>\n",
       "      <td>0.806395</td>\n",
       "      <td>0.602778</td>\n",
       "      <td>0.068108</td>\n",
       "      <td>-0.889825</td>\n",
       "      <td>1.378143</td>\n",
       "      <td>1.154090</td>\n",
       "      <td>1.238293</td>\n",
       "      <td>...</td>\n",
       "      <td>0.665802</td>\n",
       "      <td>0.530347</td>\n",
       "      <td>-0.173151</td>\n",
       "      <td>-0.211805</td>\n",
       "      <td>-0.046067</td>\n",
       "      <td>-0.022615</td>\n",
       "      <td>1.365706</td>\n",
       "      <td>-0.048326</td>\n",
       "      <td>-0.389751</td>\n",
       "      <td>0.389751</td>\n",
       "    </tr>\n",
       "    <tr>\n",
       "      <th>1</th>\n",
       "      <td>2.238859</td>\n",
       "      <td>-0.034328</td>\n",
       "      <td>-0.104449</td>\n",
       "      <td>0.229506</td>\n",
       "      <td>0.047703</td>\n",
       "      <td>0.068108</td>\n",
       "      <td>0.386600</td>\n",
       "      <td>-0.362368</td>\n",
       "      <td>0.320917</td>\n",
       "      <td>1.238293</td>\n",
       "      <td>...</td>\n",
       "      <td>-1.063707</td>\n",
       "      <td>-1.124724</td>\n",
       "      <td>-0.303939</td>\n",
       "      <td>-0.271252</td>\n",
       "      <td>-0.400402</td>\n",
       "      <td>-0.800943</td>\n",
       "      <td>-0.732222</td>\n",
       "      <td>-0.048326</td>\n",
       "      <td>-0.389751</td>\n",
       "      <td>0.389751</td>\n",
       "    </tr>\n",
       "    <tr>\n",
       "      <th>2</th>\n",
       "      <td>2.238859</td>\n",
       "      <td>-0.034328</td>\n",
       "      <td>-0.651418</td>\n",
       "      <td>-0.058939</td>\n",
       "      <td>-0.216618</td>\n",
       "      <td>0.068108</td>\n",
       "      <td>-0.857097</td>\n",
       "      <td>-0.820398</td>\n",
       "      <td>-0.684635</td>\n",
       "      <td>-0.872467</td>\n",
       "      <td>...</td>\n",
       "      <td>-0.356181</td>\n",
       "      <td>-0.266539</td>\n",
       "      <td>-0.410947</td>\n",
       "      <td>-0.806278</td>\n",
       "      <td>-0.648436</td>\n",
       "      <td>-0.171991</td>\n",
       "      <td>1.365706</td>\n",
       "      <td>-0.048326</td>\n",
       "      <td>-0.389751</td>\n",
       "      <td>0.389751</td>\n",
       "    </tr>\n",
       "    <tr>\n",
       "      <th>3</th>\n",
       "      <td>2.238859</td>\n",
       "      <td>1.435356</td>\n",
       "      <td>0.661307</td>\n",
       "      <td>-0.203161</td>\n",
       "      <td>-0.613100</td>\n",
       "      <td>0.068108</td>\n",
       "      <td>-0.627995</td>\n",
       "      <td>-0.270762</td>\n",
       "      <td>-0.196224</td>\n",
       "      <td>0.534706</td>\n",
       "      <td>...</td>\n",
       "      <td>-0.513409</td>\n",
       "      <td>-0.082642</td>\n",
       "      <td>-0.303939</td>\n",
       "      <td>-0.390147</td>\n",
       "      <td>-0.364968</td>\n",
       "      <td>-0.738048</td>\n",
       "      <td>-0.732222</td>\n",
       "      <td>-0.048326</td>\n",
       "      <td>-0.389751</td>\n",
       "      <td>0.389751</td>\n",
       "    </tr>\n",
       "    <tr>\n",
       "      <th>4</th>\n",
       "      <td>2.238859</td>\n",
       "      <td>-0.218038</td>\n",
       "      <td>-0.323237</td>\n",
       "      <td>0.662173</td>\n",
       "      <td>0.919964</td>\n",
       "      <td>-0.961182</td>\n",
       "      <td>-0.464350</td>\n",
       "      <td>-3.018939</td>\n",
       "      <td>-2.092409</td>\n",
       "      <td>-0.168881</td>\n",
       "      <td>...</td>\n",
       "      <td>-2.662193</td>\n",
       "      <td>0.039956</td>\n",
       "      <td>-0.363388</td>\n",
       "      <td>-0.330700</td>\n",
       "      <td>-0.294101</td>\n",
       "      <td>-0.659429</td>\n",
       "      <td>-0.732222</td>\n",
       "      <td>-0.048326</td>\n",
       "      <td>-0.389751</td>\n",
       "      <td>0.389751</td>\n",
       "    </tr>\n",
       "  </tbody>\n",
       "</table>\n",
       "<p>5 rows × 23 columns</p>\n",
       "</div>"
      ],
      "text/plain": [
       "        age    height    weight     waist   bt_chol   bt_crea   bt_gluc  \\\n",
       "0  2.354509 -0.218038 -0.104449  0.806395  0.602778  0.068108 -0.889825   \n",
       "1  2.238859 -0.034328 -0.104449  0.229506  0.047703  0.068108  0.386600   \n",
       "2  2.238859 -0.034328 -0.651418 -0.058939 -0.216618  0.068108 -0.857097   \n",
       "3  2.238859  1.435356  0.661307 -0.203161 -0.613100  0.068108 -0.627995   \n",
       "4  2.238859 -0.218038 -0.323237  0.662173  0.919964 -0.961182 -0.464350   \n",
       "\n",
       "      bt_hb    bt_hct    bt_mch  ...    bt_rbc    bt_wbc   bt_rgpt   bt_sgot  \\\n",
       "0  1.378143  1.154090  1.238293  ...  0.665802  0.530347 -0.173151 -0.211805   \n",
       "1 -0.362368  0.320917  1.238293  ... -1.063707 -1.124724 -0.303939 -0.271252   \n",
       "2 -0.820398 -0.684635 -0.872467  ... -0.356181 -0.266539 -0.410947 -0.806278   \n",
       "3 -0.270762 -0.196224  0.534706  ... -0.513409 -0.082642 -0.303939 -0.390147   \n",
       "4 -3.018939 -2.092409 -0.168881  ... -2.662193  0.039956 -0.363388 -0.330700   \n",
       "\n",
       "    bt_sgpt   bt_trig  bp_judge  pulse_count_judge  bt_hbsa_0  bt_hbsa_1  \n",
       "0 -0.046067 -0.022615  1.365706          -0.048326  -0.389751   0.389751  \n",
       "1 -0.400402 -0.800943 -0.732222          -0.048326  -0.389751   0.389751  \n",
       "2 -0.648436 -0.171991  1.365706          -0.048326  -0.389751   0.389751  \n",
       "3 -0.364968 -0.738048 -0.732222          -0.048326  -0.389751   0.389751  \n",
       "4 -0.294101 -0.659429 -0.732222          -0.048326  -0.389751   0.389751  \n",
       "\n",
       "[5 rows x 23 columns]"
      ]
     },
     "execution_count": 19,
     "metadata": {},
     "output_type": "execute_result"
    }
   ],
   "source": [
    "# 125쪽 1\n",
    "v_feature_name = df_train_x.columns\n",
    "scaler = StandardScaler()\n",
    "df_scaled = scaler.fit_transform(df_raw_x)\n",
    "df_scaled = pd.DataFrame(df_scaled, columns = v_feature_name)\n",
    "df_scaled.head()"
   ]
  },
  {
   "cell_type": "code",
   "execution_count": 20,
   "metadata": {},
   "outputs": [
    {
     "name": "stdout",
     "output_type": "stream",
     "text": [
      "train data X size : (858, 23)\n",
      "test data X size : (644, 23)\n"
     ]
    }
   ],
   "source": [
    "# 125쪽 2\n",
    "df_scaled_train_x, df_scaled_test_x = train_test_split(df_scaled, test_size = 0.3,random_state = 1234)\n",
    "df_scaled_train_x, df_scaled_validation_x = train_test_split(df_scaled_train_x, test_size = 3/7,random_state = 1234)\n",
    "print(\"train data X size : {}\".format(df_scaled_train_x.shape))\n",
    "print(\"test data X size : {}\".format(df_scaled_test_x.shape))"
   ]
  },
  {
   "cell_type": "markdown",
   "metadata": {},
   "source": [
    "### step2: scale 조절 후 SVC 모델 재실행"
   ]
  },
  {
   "cell_type": "code",
   "execution_count": 21,
   "metadata": {},
   "outputs": [
    {
     "name": "stdout",
     "output_type": "stream",
     "text": [
      "Accuracy on training set:0.797\n",
      "Accuracy on test set:0.766\n",
      "Accuracy:0.797\n",
      "Confusion matrix:\n",
      "[[490   1]\n",
      " [150   3]]\n"
     ]
    }
   ],
   "source": [
    "# 125쪽 3\n",
    "svm_scaled = SVC(random_state = 1234)\n",
    "svm_scaled.fit(df_scaled_train_x, df_train_y)\n",
    "print(\"Accuracy on training set:{:.3f}\".format(svm_scaled.score(df_scaled_train_x, df_train_y)))\n",
    "print(\"Accuracy on test set:{:.3f}\".format(svm_scaled.score(df_scaled_test_x, df_test_y)))\n",
    "# 평가 \n",
    "y_pred=svm_scaled.predict(df_scaled_test_x)\n",
    "print(\"Accuracy:{:.3f}\".format(svm_scaled.score(df_scaled_train_x,df_train_y)))\n",
    "print(\"Confusion matrix:\\n{}\".format(confusion_matrix(df_test_y,y_pred)))"
   ]
  },
  {
   "cell_type": "markdown",
   "metadata": {},
   "source": [
    "### step2: 새로운 SVC 모델 Parameter 변경"
   ]
  },
  {
   "cell_type": "markdown",
   "metadata": {},
   "source": [
    "- C: 규제에 대한 강도 변경"
   ]
  },
  {
   "cell_type": "code",
   "execution_count": 22,
   "metadata": {},
   "outputs": [],
   "source": [
    "# p.126~127\n",
    "# train 및 test 정확도 결과 저장용\n",
    "train_accuracy = []; test_accuracy = []\n",
    "# c: 규제(0.01, 0..1, 1, 10)\n",
    "para_c = [10 ** c for c in range(-2, 2)]\n",
    "for v_C in para_c:\n",
    "    svm = SVC(C=v_C, random_state=1234)\n",
    "    svm.fit(df_scaled_train_x, df_train_y)\n",
    "    train_accuracy.append(svm.score(df_scaled_train_x, df_train_y))\n",
    "    test_accuracy.append(svm.score(df_scaled_test_x, df_test_y))\n",
    "# 데이터 테이블로 저장\n",
    "df_accuracy_c = pd.DataFrame()\n",
    "df_accuracy_c[\"C\"] = para_c\n",
    "df_accuracy_c[\"TrainAccuracy\"] = train_accuracy\n",
    "df_accuracy_c[\"TestAccuracy\"] = test_accuracy"
   ]
  },
  {
   "cell_type": "markdown",
   "metadata": {},
   "source": [
    "- C: 규제에 대한 강도 변경 결과"
   ]
  },
  {
   "cell_type": "code",
   "execution_count": 23,
   "metadata": {
    "scrolled": true
   },
   "outputs": [
    {
     "data": {
      "text/plain": [
       "<matplotlib.legend.Legend at 0x7f65adc0ea60>"
      ]
     },
     "execution_count": 23,
     "metadata": {},
     "output_type": "execute_result"
    },
    {
     "data": {
      "image/png": "[encoded data removed]",
      "text/plain": [
       "<Figure size 432x288 with 1 Axes>"
      ]
     },
     "metadata": {
      "needs_background": "light"
     },
     "output_type": "display_data"
    }
   ],
   "source": [
    "# C별 정확도 테이블\n",
    "df_accuracy_c.round(3)\n",
    "# 모델 정확도 그래프 확인\n",
    "plt.plot(para_c, train_accuracy, linestyle=\"-\", label=\"Train Accuracy\")\n",
    "plt.plot(para_c, test_accuracy, linestyle=\"--\", label=\"Test Accuracy\")\n",
    "plt.ylabel(\"accuracy\"); plt.xlabel(\"C\")\n",
    "plt.legend()"
   ]
  },
  {
   "cell_type": "code",
   "execution_count": 24,
   "metadata": {},
   "outputs": [],
   "source": [
    "# 임의로 지정\n",
    "C = 1"
   ]
  },
  {
   "cell_type": "markdown",
   "metadata": {},
   "source": [
    "- Gamma: 훈련 샘플이 미치는 영향의 범위를 변경"
   ]
  },
  {
   "cell_type": "code",
   "execution_count": 25,
   "metadata": {},
   "outputs": [],
   "source": [
    "#p128\n",
    "#새로운 SVC 모델 파라미터 변경\n",
    "#Gamma 훈련 샘플이 미치는 영향의 범위를 변경 결과\n",
    "#train 및 test정확도 결과 저장용\n",
    "train_accuracy=[];test_accuracy=[]\n",
    "#gamma: 규제(0.01 , 0.1 , 1, 10)\n",
    "para_gamma=[10 **gamma for gamma in range(-2,2)]\n",
    "for v_gamma in para_gamma:\n",
    "    svm=SVC(gamma=v_gamma,C=2,random_state=1234)\n",
    "    svm.fit(df_scaled_train_x,df_train_y)\n",
    "    train_accuracy.append(svm.score(df_scaled_train_x,df_train_y))\n",
    "    test_accuracy.append(svm.score(df_scaled_test_x,df_test_y))\n",
    "#데이터 테이블로 저장\n",
    "df_accuracy_gamma=pd.DataFrame()\n",
    "df_accuracy_gamma['gamma']=para_gamma\n",
    "df_accuracy_gamma['TrainAccuracy']=train_accuracy\n",
    "df_accuracy_gamma['TestAccuracy']=test_accuracy"
   ]
  },
  {
   "cell_type": "markdown",
   "metadata": {},
   "source": [
    "- Gamma: 훈련 샘플이 미치는 영향의 범위를 변경 결과"
   ]
  },
  {
   "cell_type": "markdown",
   "metadata": {},
   "source": [
    "### step2: 새로운 SVC 모델 평가"
   ]
  },
  {
   "cell_type": "code",
   "execution_count": 26,
   "metadata": {},
   "outputs": [
    {
     "data": {
      "image/png": "[encoded data removed]",
      "text/plain": [
       "<Figure size 432x288 with 1 Axes>"
      ]
     },
     "metadata": {
      "needs_background": "light"
     },
     "output_type": "display_data"
    }
   ],
   "source": [
    "# p 129 아래\n",
    "# Gamma 별 정확도 테이블\n",
    "df_accuracy_gamma.round(3)\n",
    "# Gamma 별 정확도 그래프로 확인\n",
    "plt.plot(para_gamma, train_accuracy, linestyle = \"-\", label = 'Train Accuracy')\n",
    "plt.plot(para_gamma, test_accuracy, linestyle = '--', label = 'Test Accuracy')\n",
    "plt.ylabel('accuracy'); plt.xlabel('gamma')\n",
    "plt.legend()\n",
    "# 임의로 지정\n",
    "gamma = 0.1"
   ]
  },
  {
   "cell_type": "markdown",
   "metadata": {},
   "source": [
    "### step3: 결론 도출"
   ]
  },
  {
   "cell_type": "code",
   "execution_count": 29,
   "metadata": {},
   "outputs": [
    {
     "name": "stdout",
     "output_type": "stream",
     "text": [
      "Accuracy on training set: 1.000\n",
      "Accuracy on test set: 0.762 \n",
      "\n",
      "Confusion matrix: \n",
      " [[491   0]\n",
      " [153   0]]\n"
     ]
    }
   ],
   "source": [
    "# p130\n",
    "# 최종 모델\n",
    "svc_final = SVC(gamma = 1, C = 1, random_state = 1234)\n",
    "svc_final.fit(df_scaled_train_x, df_train_y)\n",
    "# 평가\n",
    "y_pred = svc_final.predict(df_scaled_test_x)\n",
    "# train 데이터 셋 정확도\n",
    "print(\"Accuracy on training set: {:.3f}\" .format(svc_final.score(df_scaled_train_x, df_train_y)))\n",
    "# test 데이터 셋 정확도\n",
    "print(\"Accuracy on test set: {:.3f} \\n\" .format(svc_final.score(df_scaled_test_x, df_test_y)))\n",
    "# confusion matrix\n",
    "print(\"Confusion matrix: \\n {}\" .format(confusion_matrix(df_test_y, y_pred)))"
   ]
  },
  {
   "cell_type": "markdown",
   "metadata": {},
   "source": [
    "### step3: 서포트 벡터 머신 Parameter 조정 - 추가"
   ]
  },
  {
   "cell_type": "code",
   "execution_count": 28,
   "metadata": {},
   "outputs": [],
   "source": [
    "# gridsearchCV 는 생략했습니다"
   ]
  },
  {
   "cell_type": "code",
   "execution_count": null,
   "metadata": {},
   "outputs": [],
   "source": []
  }
 ],
 "metadata": {
  "kernelspec": {
   "display_name": "Python 3",
   "language": "python",
   "name": "python3"
  },
  "language_info": {
   "codemirror_mode": {
    "name": "ipython",
    "version": 3
   },
   "file_extension": ".py",
   "mimetype": "text/x-python",
   "name": "python",
   "nbconvert_exporter": "python",
   "pygments_lexer": "ipython3",
   "version": "3.8.3"
  }
 },
 "nbformat": 4,
 "nbformat_minor": 4
}
